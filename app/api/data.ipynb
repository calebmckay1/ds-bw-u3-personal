{
 "metadata": {
  "language_info": {
   "codemirror_mode": {
    "name": "ipython",
    "version": 3
   },
   "file_extension": ".py",
   "mimetype": "text/x-python",
   "name": "python",
   "nbconvert_exporter": "python",
   "pygments_lexer": "ipython3",
   "version": 3
  },
  "orig_nbformat": 2,
  "kernelspec": {
   "name": "python_defaultSpec_1595875487769",
   "display_name": "Python 3.7.6 64-bit ('spotify-songselector-data': pipenv)"
  }
 },
 "nbformat": 4,
 "nbformat_minor": 2,
 "cells": [
  {
   "cell_type": "code",
   "execution_count": 142,
   "metadata": {
    "tags": []
   },
   "outputs": [],
   "source": [
    "import spotipy\n",
    "from spotipy.oauth2 import SpotifyClientCredentials\n",
    "import os\n",
    "from dotenv import load_dotenv\n",
    "import pandas as pd\n",
    "\n",
    "load_dotenv()\n",
    "SPOTIPY_CLIENT_ID = os.getenv('SPOTIPY_CLIENT_ID')\n",
    "SPOTIPY_CLIENT_SECRET = os.getenv('SPOTIPY_CLIENT_SECRET')\n",
    "\n",
    "# use this variable to do commands\n",
    "sp = spotipy.Spotify(\n",
    "    client_credentials_manager=SpotifyClientCredentials())\n",
    "\n",
    "# new_releaselist = sp.new_releases(country='US', limit=1,)\n",
    "\n",
    "# print(sp.track('SOBBMDR12A8C13253B'))\n",
    "\n",
    "songlist = []\n",
    "offset = 0\n",
    "ranger = 5\n",
    "for songset in range(0, ranger):     \n",
    "    songs = sp.playlist_tracks(playlist_id='3YjUPovYVgaUHPTw2QUpMg',fields='items', limit=1,\n",
    "                               offset=offset, additional_types=['track',])\n",
    "    offset += 1\n",
    "    songlist.append(songs)\n",
    "\n"
   ]
  },
  {
   "cell_type": "code",
   "execution_count": 146,
   "metadata": {
    "tags": []
   },
   "outputs": [
    {
     "output_type": "stream",
     "name": "stdout",
     "text": "{'album': {'album_type': 'album', 'artists': [{'external_urls': {'spotify': 'https://open.spotify.com/artist/1dqGS5sT6PE2wEvP1gROZC'}, 'href': 'https://api.spotify.com/v1/artists/1dqGS5sT6PE2wEvP1gROZC', 'id': '1dqGS5sT6PE2wEvP1gROZC', 'name': 'Flatbush Zombies', 'type': 'artist', 'uri': 'spotify:artist:1dqGS5sT6PE2wEvP1gROZC'}], 'available_markets': ['AD', 'AE', 'AL', 'AR', 'AT', 'AU', 'BA', 'BE', 'BG', 'BH', 'BO', 'BR', 'BY', 'CA', 'CH', 'CL', 'CO', 'CR', 'CY', 'CZ', 'DE', 'DK', 'DO', 'DZ', 'EC', 'EE', 'EG', 'ES', 'FI', 'FR', 'GB', 'GR', 'GT', 'HK', 'HN', 'HR', 'HU', 'ID', 'IE', 'IL', 'IN', 'IS', 'IT', 'JO', 'JP', 'KW', 'KZ', 'LB', 'LI', 'LT', 'LU', 'LV', 'MA', 'MC', 'MD', 'ME', 'MK', 'MT', 'MX', 'MY', 'NI', 'NL', 'NO', 'NZ', 'OM', 'PA', 'PE', 'PH', 'PL', 'PS', 'PT', 'PY', 'QA', 'RO', 'RS', 'RU', 'SA', 'SE', 'SG', 'SI', 'SK', 'SV', 'TH', 'TN', 'TR', 'TW', 'UA', 'US', 'UY', 'VN', 'XK', 'ZA'], 'external_urls': {'spotify': 'https://open.spotify.com/album/4Qohh8LwXoV7ucmjCU4MYL'}, 'href': 'https://api.spotify.com/v1/albums/4Qohh8LwXoV7ucmjCU4MYL', 'id': '4Qohh8LwXoV7ucmjCU4MYL', 'images': [{'height': 640, 'url': 'https://i.scdn.co/image/ab67616d0000b273ced248bb8dd18aa2da62f4f4', 'width': 640}, {'height': 300, 'url': 'https://i.scdn.co/image/ab67616d00001e02ced248bb8dd18aa2da62f4f4', 'width': 300}, {'height': 64, 'url': 'https://i.scdn.co/image/ab67616d00004851ced248bb8dd18aa2da62f4f4', 'width': 64}], 'name': '3001: A Laced Odyssey', 'release_date': '2016-03-11', 'release_date_precision': 'day', 'total_tracks': 12, 'type': 'album', 'uri': 'spotify:album:4Qohh8LwXoV7ucmjCU4MYL'}, 'artists': [{'external_urls': {'spotify': 'https://open.spotify.com/artist/1dqGS5sT6PE2wEvP1gROZC'}, 'href': 'https://api.spotify.com/v1/artists/1dqGS5sT6PE2wEvP1gROZC', 'id': '1dqGS5sT6PE2wEvP1gROZC', 'name': 'Flatbush Zombies', 'type': 'artist', 'uri': 'spotify:artist:1dqGS5sT6PE2wEvP1gROZC'}], 'available_markets': ['AD', 'AE', 'AL', 'AR', 'AT', 'AU', 'BA', 'BE', 'BG', 'BH', 'BO', 'BR', 'BY', 'CA', 'CH', 'CL', 'CO', 'CR', 'CY', 'CZ', 'DE', 'DK', 'DO', 'DZ', 'EC', 'EE', 'EG', 'ES', 'FI', 'FR', 'GB', 'GR', 'GT', 'HK', 'HN', 'HR', 'HU', 'ID', 'IE', 'IL', 'IN', 'IS', 'IT', 'JO', 'JP', 'KW', 'KZ', 'LB', 'LI', 'LT', 'LU', 'LV', 'MA', 'MC', 'MD', 'ME', 'MK', 'MT', 'MX', 'MY', 'NI', 'NL', 'NO', 'NZ', 'OM', 'PA', 'PE', 'PH', 'PL', 'PS', 'PT', 'PY', 'QA', 'RO', 'RS', 'RU', 'SA', 'SE', 'SG', 'SI', 'SK', 'SV', 'TH', 'TN', 'TR', 'TW', 'UA', 'US', 'UY', 'VN', 'XK', 'ZA'], 'disc_number': 1, 'duration_ms': 779560, 'episode': False, 'explicit': True, 'external_ids': {'isrc': 'QZ2D51600012'}, 'external_urls': {'spotify': 'https://open.spotify.com/track/11iOB65szCoy6e5dscKrai'}, 'href': 'https://api.spotify.com/v1/tracks/11iOB65szCoy6e5dscKrai', 'id': '11iOB65szCoy6e5dscKrai', 'is_local': False, 'name': 'Your Favorite Rap Song', 'popularity': 47, 'preview_url': 'https://p.scdn.co/mp3-preview/8e0edb9ba4a46bdc95839db9569b1672595618e6?cid=ed821de5ebb1464cbb2f9112261ad125', 'track': True, 'track_number': 12, 'type': 'track', 'uri': 'spotify:track:11iOB65szCoy6e5dscKrai'}\n"
    }
   ],
   "source": [
    "tighter_song_list = []\n",
    "for i in range(0, ranger):\n",
    "    narrow_info = songlist[i]['items'][0]['track']\n",
    "    tighter_song_list.append(narrow_info)\n",
    "    tighter_song_list[0]['album']['name']\n",
    "print(narrow_info)"
   ]
  },
  {
   "cell_type": "code",
   "execution_count": 150,
   "metadata": {},
   "outputs": [
    {
     "output_type": "execute_result",
     "data": {
      "text/plain": "{'album_type': 'album',\n 'artists': [{'external_urls': {'spotify': 'https://open.spotify.com/artist/4LLpKhyESsyAXpc4laK94U'},\n   'href': 'https://api.spotify.com/v1/artists/4LLpKhyESsyAXpc4laK94U',\n   'id': '4LLpKhyESsyAXpc4laK94U',\n   'name': 'Mac Miller',\n   'type': 'artist',\n   'uri': 'spotify:artist:4LLpKhyESsyAXpc4laK94U'}],\n 'available_markets': ['AD',\n  'AE',\n  'AL',\n  'AR',\n  'AT',\n  'AU',\n  'BA',\n  'BE',\n  'BG',\n  'BH',\n  'BO',\n  'BR',\n  'BY',\n  'CA',\n  'CH',\n  'CL',\n  'CO',\n  'CR',\n  'CY',\n  'CZ',\n  'DE',\n  'DK',\n  'DO',\n  'DZ',\n  'EC',\n  'EE',\n  'EG',\n  'ES',\n  'FI',\n  'FR',\n  'GB',\n  'GR',\n  'GT',\n  'HK',\n  'HN',\n  'HR',\n  'HU',\n  'ID',\n  'IE',\n  'IL',\n  'IN',\n  'IS',\n  'IT',\n  'JO',\n  'JP',\n  'KW',\n  'KZ',\n  'LB',\n  'LI',\n  'LT',\n  'LU',\n  'LV',\n  'MA',\n  'MC',\n  'MD',\n  'ME',\n  'MK',\n  'MT',\n  'MX',\n  'MY',\n  'NI',\n  'NL',\n  'NO',\n  'NZ',\n  'OM',\n  'PA',\n  'PE',\n  'PH',\n  'PL',\n  'PS',\n  'PT',\n  'PY',\n  'QA',\n  'RO',\n  'RS',\n  'RU',\n  'SA',\n  'SE',\n  'SG',\n  'SI',\n  'SK',\n  'SV',\n  'TH',\n  'TN',\n  'TR',\n  'TW',\n  'UA',\n  'US',\n  'UY',\n  'VN',\n  'XK',\n  'ZA'],\n 'external_urls': {'spotify': 'https://open.spotify.com/album/2Tyx5dLhHYkx6zeAdVaTzN'},\n 'href': 'https://api.spotify.com/v1/albums/2Tyx5dLhHYkx6zeAdVaTzN',\n 'id': '2Tyx5dLhHYkx6zeAdVaTzN',\n 'images': [{'height': 640,\n   'url': 'https://i.scdn.co/image/ab67616d0000b273ee0f38410382a255e4fb15f4',\n   'width': 640},\n  {'height': 300,\n   'url': 'https://i.scdn.co/image/ab67616d00001e02ee0f38410382a255e4fb15f4',\n   'width': 300},\n  {'height': 64,\n   'url': 'https://i.scdn.co/image/ab67616d00004851ee0f38410382a255e4fb15f4',\n   'width': 64}],\n 'name': 'GO:OD AM',\n 'release_date': '2015-09-18',\n 'release_date_precision': 'day',\n 'total_tracks': 17,\n 'type': 'album',\n 'uri': 'spotify:album:2Tyx5dLhHYkx6zeAdVaTzN'}"
     },
     "metadata": {},
     "execution_count": 150
    }
   ],
   "source": [
    "df = pd.DataFrame(tighter_song_list)\n",
    "df['album'][0]\n"
   ]
  },
  {
   "cell_type": "code",
   "execution_count": 130,
   "metadata": {},
   "outputs": [],
   "source": [
    "df_final = df['popularity']\n",
    "# songlist[0]['items']"
   ]
  },
  {
   "cell_type": "code",
   "execution_count": 138,
   "metadata": {},
   "outputs": [
    {
     "output_type": "execute_result",
     "data": {
      "text/plain": "'GO:OD AM'"
     },
     "metadata": {},
     "execution_count": 138
    }
   ],
   "source": [
    "tighter_song_list[0]['album']['name']"
   ]
  },
  {
   "cell_type": "code",
   "execution_count": 139,
   "metadata": {},
   "outputs": [
    {
     "output_type": "execute_result",
     "data": {
      "text/plain": "                                               album  \\\n0  {'album_type': 'album', 'artists': [{'external...   \n1  {'album_type': 'album', 'artists': [{'external...   \n2  {'album_type': 'album', 'artists': [{'external...   \n3  {'album_type': 'album', 'artists': [{'external...   \n4  {'album_type': 'album', 'artists': [{'external...   \n\n                                             artists  \\\n0  [{'external_urls': {'spotify': 'https://open.s...   \n1  [{'external_urls': {'spotify': 'https://open.s...   \n2  [{'external_urls': {'spotify': 'https://open.s...   \n3  [{'external_urls': {'spotify': 'https://open.s...   \n4  [{'external_urls': {'spotify': 'https://open.s...   \n\n                                   available_markets  disc_number  \\\n0  [AD, AE, AL, AR, AT, AU, BA, BE, BG, BH, BO, B...            1   \n1  [AD, AE, AL, AR, AT, AU, BA, BE, BG, BH, BO, B...            1   \n2  [AD, AE, AL, AR, AT, AU, BA, BE, BG, BH, BO, B...            1   \n3  [AD, AE, AL, AR, AT, AU, BA, BE, BG, BH, BO, B...            1   \n4  [AD, AE, AL, AR, AT, AU, BA, BE, BG, BH, BO, B...            1   \n\n   duration_ms  episode  explicit              external_ids  \\\n0       278506    False      True  {'isrc': 'USWB11508205'}   \n1       559533    False      True  {'isrc': 'USUM71414228'}   \n2       167320    False      True  {'isrc': 'USUM71414216'}   \n3       579293    False      True  {'isrc': 'USA370629088'}   \n4       779560    False      True  {'isrc': 'QZ2D51600012'}   \n\n                                       external_urls  \\\n0  {'spotify': 'https://open.spotify.com/track/4z...   \n1  {'spotify': 'https://open.spotify.com/track/5L...   \n2  {'spotify': 'https://open.spotify.com/track/1K...   \n3  {'spotify': 'https://open.spotify.com/track/7M...   \n4  {'spotify': 'https://open.spotify.com/track/11...   \n\n                                                href                      id  \\\n0  https://api.spotify.com/v1/tracks/4z0PnuB07fxt...  4z0PnuB07fxtVZZRWsCfxb   \n1  https://api.spotify.com/v1/tracks/5LME7YULt0en...  5LME7YULt0enp6UAB8VoDn   \n2  https://api.spotify.com/v1/tracks/1Kp6WFxRzc0s...  1Kp6WFxRzc0sRBmGSgIYat   \n3  https://api.spotify.com/v1/tracks/7MDUVH4ITohs...  7MDUVH4ITohsIjdynRwCJp   \n4  https://api.spotify.com/v1/tracks/11iOB65szCoy...  11iOB65szCoy6e5dscKrai   \n\n   is_local                    name  popularity  \\\n0     False           100 Grandkids          63   \n1     False          Under Pressure          62   \n2     False            Gang Related          63   \n3     False    Dance With the Devil          58   \n4     False  Your Favorite Rap Song          47   \n\n                                         preview_url  track  track_number  \\\n0  https://p.scdn.co/mp3-preview/c96f69a2a5f2ab34...   True             5   \n1                                               None   True            11   \n2                                               None   True             4   \n3  https://p.scdn.co/mp3-preview/ac2a0bd171c81181...   True            11   \n4  https://p.scdn.co/mp3-preview/8e0edb9ba4a46bdc...   True            12   \n\n    type                                   uri  \n0  track  spotify:track:4z0PnuB07fxtVZZRWsCfxb  \n1  track  spotify:track:5LME7YULt0enp6UAB8VoDn  \n2  track  spotify:track:1Kp6WFxRzc0sRBmGSgIYat  \n3  track  spotify:track:7MDUVH4ITohsIjdynRwCJp  \n4  track  spotify:track:11iOB65szCoy6e5dscKrai  ",
      "text/html": "<div>\n<style scoped>\n    .dataframe tbody tr th:only-of-type {\n        vertical-align: middle;\n    }\n\n    .dataframe tbody tr th {\n        vertical-align: top;\n    }\n\n    .dataframe thead th {\n        text-align: right;\n    }\n</style>\n<table border=\"1\" class=\"dataframe\">\n  <thead>\n    <tr style=\"text-align: right;\">\n      <th></th>\n      <th>album</th>\n      <th>artists</th>\n      <th>available_markets</th>\n      <th>disc_number</th>\n      <th>duration_ms</th>\n      <th>episode</th>\n      <th>explicit</th>\n      <th>external_ids</th>\n      <th>external_urls</th>\n      <th>href</th>\n      <th>id</th>\n      <th>is_local</th>\n      <th>name</th>\n      <th>popularity</th>\n      <th>preview_url</th>\n      <th>track</th>\n      <th>track_number</th>\n      <th>type</th>\n      <th>uri</th>\n    </tr>\n  </thead>\n  <tbody>\n    <tr>\n      <th>0</th>\n      <td>{'album_type': 'album', 'artists': [{'external...</td>\n      <td>[{'external_urls': {'spotify': 'https://open.s...</td>\n      <td>[AD, AE, AL, AR, AT, AU, BA, BE, BG, BH, BO, B...</td>\n      <td>1</td>\n      <td>278506</td>\n      <td>False</td>\n      <td>True</td>\n      <td>{'isrc': 'USWB11508205'}</td>\n      <td>{'spotify': 'https://open.spotify.com/track/4z...</td>\n      <td>https://api.spotify.com/v1/tracks/4z0PnuB07fxt...</td>\n      <td>4z0PnuB07fxtVZZRWsCfxb</td>\n      <td>False</td>\n      <td>100 Grandkids</td>\n      <td>63</td>\n      <td>https://p.scdn.co/mp3-preview/c96f69a2a5f2ab34...</td>\n      <td>True</td>\n      <td>5</td>\n      <td>track</td>\n      <td>spotify:track:4z0PnuB07fxtVZZRWsCfxb</td>\n    </tr>\n    <tr>\n      <th>1</th>\n      <td>{'album_type': 'album', 'artists': [{'external...</td>\n      <td>[{'external_urls': {'spotify': 'https://open.s...</td>\n      <td>[AD, AE, AL, AR, AT, AU, BA, BE, BG, BH, BO, B...</td>\n      <td>1</td>\n      <td>559533</td>\n      <td>False</td>\n      <td>True</td>\n      <td>{'isrc': 'USUM71414228'}</td>\n      <td>{'spotify': 'https://open.spotify.com/track/5L...</td>\n      <td>https://api.spotify.com/v1/tracks/5LME7YULt0en...</td>\n      <td>5LME7YULt0enp6UAB8VoDn</td>\n      <td>False</td>\n      <td>Under Pressure</td>\n      <td>62</td>\n      <td>None</td>\n      <td>True</td>\n      <td>11</td>\n      <td>track</td>\n      <td>spotify:track:5LME7YULt0enp6UAB8VoDn</td>\n    </tr>\n    <tr>\n      <th>2</th>\n      <td>{'album_type': 'album', 'artists': [{'external...</td>\n      <td>[{'external_urls': {'spotify': 'https://open.s...</td>\n      <td>[AD, AE, AL, AR, AT, AU, BA, BE, BG, BH, BO, B...</td>\n      <td>1</td>\n      <td>167320</td>\n      <td>False</td>\n      <td>True</td>\n      <td>{'isrc': 'USUM71414216'}</td>\n      <td>{'spotify': 'https://open.spotify.com/track/1K...</td>\n      <td>https://api.spotify.com/v1/tracks/1Kp6WFxRzc0s...</td>\n      <td>1Kp6WFxRzc0sRBmGSgIYat</td>\n      <td>False</td>\n      <td>Gang Related</td>\n      <td>63</td>\n      <td>None</td>\n      <td>True</td>\n      <td>4</td>\n      <td>track</td>\n      <td>spotify:track:1Kp6WFxRzc0sRBmGSgIYat</td>\n    </tr>\n    <tr>\n      <th>3</th>\n      <td>{'album_type': 'album', 'artists': [{'external...</td>\n      <td>[{'external_urls': {'spotify': 'https://open.s...</td>\n      <td>[AD, AE, AL, AR, AT, AU, BA, BE, BG, BH, BO, B...</td>\n      <td>1</td>\n      <td>579293</td>\n      <td>False</td>\n      <td>True</td>\n      <td>{'isrc': 'USA370629088'}</td>\n      <td>{'spotify': 'https://open.spotify.com/track/7M...</td>\n      <td>https://api.spotify.com/v1/tracks/7MDUVH4ITohs...</td>\n      <td>7MDUVH4ITohsIjdynRwCJp</td>\n      <td>False</td>\n      <td>Dance With the Devil</td>\n      <td>58</td>\n      <td>https://p.scdn.co/mp3-preview/ac2a0bd171c81181...</td>\n      <td>True</td>\n      <td>11</td>\n      <td>track</td>\n      <td>spotify:track:7MDUVH4ITohsIjdynRwCJp</td>\n    </tr>\n    <tr>\n      <th>4</th>\n      <td>{'album_type': 'album', 'artists': [{'external...</td>\n      <td>[{'external_urls': {'spotify': 'https://open.s...</td>\n      <td>[AD, AE, AL, AR, AT, AU, BA, BE, BG, BH, BO, B...</td>\n      <td>1</td>\n      <td>779560</td>\n      <td>False</td>\n      <td>True</td>\n      <td>{'isrc': 'QZ2D51600012'}</td>\n      <td>{'spotify': 'https://open.spotify.com/track/11...</td>\n      <td>https://api.spotify.com/v1/tracks/11iOB65szCoy...</td>\n      <td>11iOB65szCoy6e5dscKrai</td>\n      <td>False</td>\n      <td>Your Favorite Rap Song</td>\n      <td>47</td>\n      <td>https://p.scdn.co/mp3-preview/8e0edb9ba4a46bdc...</td>\n      <td>True</td>\n      <td>12</td>\n      <td>track</td>\n      <td>spotify:track:11iOB65szCoy6e5dscKrai</td>\n    </tr>\n  </tbody>\n</table>\n</div>"
     },
     "metadata": {},
     "execution_count": 139
    }
   ],
   "source": [
    "df"
   ]
  },
  {
   "cell_type": "code",
   "execution_count": null,
   "metadata": {},
   "outputs": [],
   "source": []
  }
 ]
}